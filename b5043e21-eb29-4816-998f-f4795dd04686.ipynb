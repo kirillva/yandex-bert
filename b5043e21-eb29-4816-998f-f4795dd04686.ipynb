{
 "cells": [
  {
   "attachments": {},
   "cell_type": "markdown",
   "metadata": {
    "toc": true
   },
   "source": [
    "<h1>Содержание<span class=\"tocSkip\"></span></h1>\n",
    "<div class=\"toc\"><ul class=\"toc-item\"><li><span><a href=\"#Подготовка\" data-toc-modified-id=\"Подготовка-1\"><span class=\"toc-item-num\">1&nbsp;&nbsp;</span>Подготовка</a></span></li><li><span><a href=\"#Обучение\" data-toc-modified-id=\"Обучение-2\"><span class=\"toc-item-num\">2&nbsp;&nbsp;</span>Обучение</a></span></li><li><span><a href=\"#Выводы\" data-toc-modified-id=\"Выводы-3\"><span class=\"toc-item-num\">3&nbsp;&nbsp;</span>Выводы</a></span></li><li><span><a href=\"#Чек-лист-проверки\" data-toc-modified-id=\"Чек-лист-проверки-4\"><span class=\"toc-item-num\">4&nbsp;&nbsp;</span>Чек-лист проверки</a></span></li></ul></div>"
   ]
  },
  {
   "attachments": {},
   "cell_type": "markdown",
   "metadata": {},
   "source": [
    "# Проект для «Викишоп» c BERT"
   ]
  },
  {
   "attachments": {},
   "cell_type": "markdown",
   "metadata": {},
   "source": [
    "Интернет-магазин «Викишоп» запускает новый сервис. Теперь пользователи могут редактировать и дополнять описания товаров, как в вики-сообществах. То есть клиенты предлагают свои правки и комментируют изменения других. Магазину нужен инструмент, который будет искать токсичные комментарии и отправлять их на модерацию. \n",
    "\n",
    "Обучите модель классифицировать комментарии на позитивные и негативные. В вашем распоряжении набор данных с разметкой о токсичности правок.\n",
    "\n",
    "Постройте модель со значением метрики качества *F1* не меньше 0.75. \n",
    "\n",
    "**Инструкция по выполнению проекта**\n",
    "\n",
    "1. Загрузите и подготовьте данные.\n",
    "2. Обучите разные модели. \n",
    "3. Сделайте выводы.\n",
    "\n",
    "Для выполнения проекта применять *BERT* необязательно, но вы можете попробовать.\n",
    "\n",
    "**Описание данных**\n",
    "\n",
    "Данные находятся в файле `toxic_comments.csv`. Столбец *text* в нём содержит текст комментария, а *toxic* — целевой признак."
   ]
  },
  {
   "attachments": {},
   "cell_type": "markdown",
   "metadata": {},
   "source": [
    "## Подготовка"
   ]
  },
  {
   "cell_type": "code",
   "execution_count": 1,
   "metadata": {},
   "outputs": [
    {
     "name": "stdout",
     "output_type": "stream",
     "text": [
      "INFO: Pandarallel will run on 6 workers.\n",
      "INFO: Pandarallel will use standard multiprocessing data transfer (pipe) to transfer data between the main process and workers.\n",
      "\n",
      "WARNING: You are on Windows. If you detect any issue with pandarallel, be sure you checked out the Troubleshooting page:\n",
      "https://nalepae.github.io/pandarallel/troubleshooting/\n"
     ]
    }
   ],
   "source": [
    "import gc\n",
    "import math\n",
    "import re\n",
    "import os.path\n",
    "import numpy as np\n",
    "import pandas as pd\n",
    "import torch\n",
    "import matplotlib.pyplot as plt\n",
    "\n",
    "from tqdm.notebook import tqdm\n",
    "tqdm.pandas()\n",
    "\n",
    "from pandarallel import pandarallel\n",
    "pandarallel.initialize(progress_bar=True)\n",
    "\n",
    "from transformers import (\n",
    "    BertModel,\n",
    "    BertTokenizer,\n",
    "    DistilBertModel,\n",
    "    DistilBertTokenizer\n",
    ")\n",
    "\n",
    "\n",
    "from sklearn.linear_model import LogisticRegression\n",
    "from catboost import CatBoostClassifier\n",
    "from sklearn.ensemble import RandomForestClassifier\n",
    "from sklearn.dummy import DummyClassifier\n",
    "\n",
    "# from sklearn.model_selection import cross_val_score\n",
    "from sklearn.model_selection import train_test_split, GridSearchCV\n",
    "from sklearn.metrics import (\n",
    "    ConfusionMatrixDisplay, confusion_matrix,\n",
    "    f1_score\n",
    ")\n",
    "\n",
    "from sklearn.pipeline import Pipeline\n",
    "from imblearn.under_sampling import NearMiss "
   ]
  },
  {
   "cell_type": "code",
   "execution_count": 2,
   "metadata": {},
   "outputs": [
    {
     "name": "stdout",
     "output_type": "stream",
     "text": [
      "There are 1 GPU(s) available.\n",
      "We will use the GPU: NVIDIA GeForce RTX 3070\n"
     ]
    }
   ],
   "source": [
    "if torch.cuda.is_available():    \n",
    "    device = torch.device(\"cuda\")\n",
    "    torch.cuda.empty_cache()\n",
    "    gc.collect()\n",
    "    print('There are %d GPU(s) available.' % torch.cuda.device_count())\n",
    "\n",
    "    print('We will use the GPU:', torch.cuda.get_device_name(0))\n",
    "\n",
    "else:\n",
    "    print('No GPU available, using the CPU instead.')\n",
    "    device = torch.device(\"cpu\")"
   ]
  },
  {
   "cell_type": "code",
   "execution_count": 3,
   "metadata": {},
   "outputs": [
    {
     "name": "stdout",
     "output_type": "stream",
     "text": [
      "<class 'pandas.core.frame.DataFrame'>\n",
      "Int64Index: 159292 entries, 0 to 159450\n",
      "Data columns (total 2 columns):\n",
      " #   Column  Non-Null Count   Dtype \n",
      "---  ------  --------------   ----- \n",
      " 0   text    159292 non-null  object\n",
      " 1   toxic   159292 non-null  int64 \n",
      "dtypes: int64(1), object(1)\n",
      "memory usage: 3.6+ MB\n"
     ]
    }
   ],
   "source": [
    "df = pd.read_csv('datasets/toxic_comments.csv', index_col=[0])\n",
    "df.info()"
   ]
  },
  {
   "cell_type": "code",
   "execution_count": 4,
   "metadata": {},
   "outputs": [],
   "source": [
    "# df = df.sample(1000, random_state=12345)"
   ]
  },
  {
   "cell_type": "code",
   "execution_count": 5,
   "metadata": {},
   "outputs": [
    {
     "data": {
      "application/vnd.jupyter.widget-view+json": {
       "model_id": "f94302e20e5c4b9aa351221799e03c0c",
       "version_major": 2,
       "version_minor": 0
      },
      "text/plain": [
       "  0%|          | 0/159292 [00:00<?, ?it/s]"
      ]
     },
     "metadata": {},
     "output_type": "display_data"
    },
    {
     "data": {
      "text/html": [
       "<div>\n",
       "<style scoped>\n",
       "    .dataframe tbody tr th:only-of-type {\n",
       "        vertical-align: middle;\n",
       "    }\n",
       "\n",
       "    .dataframe tbody tr th {\n",
       "        vertical-align: top;\n",
       "    }\n",
       "\n",
       "    .dataframe thead th {\n",
       "        text-align: right;\n",
       "    }\n",
       "</style>\n",
       "<table border=\"1\" class=\"dataframe\">\n",
       "  <thead>\n",
       "    <tr style=\"text-align: right;\">\n",
       "      <th></th>\n",
       "      <th>text</th>\n",
       "      <th>toxic</th>\n",
       "    </tr>\n",
       "  </thead>\n",
       "  <tbody>\n",
       "    <tr>\n",
       "      <th>0</th>\n",
       "      <td>explanation why the edits made under my userna...</td>\n",
       "      <td>0</td>\n",
       "    </tr>\n",
       "    <tr>\n",
       "      <th>1</th>\n",
       "      <td>d'aww he matches this background colour i'm se...</td>\n",
       "      <td>0</td>\n",
       "    </tr>\n",
       "    <tr>\n",
       "      <th>2</th>\n",
       "      <td>hey man i'm really not trying to edit war it's...</td>\n",
       "      <td>0</td>\n",
       "    </tr>\n",
       "    <tr>\n",
       "      <th>3</th>\n",
       "      <td>more i can't make any real suggestions on impr...</td>\n",
       "      <td>0</td>\n",
       "    </tr>\n",
       "    <tr>\n",
       "      <th>4</th>\n",
       "      <td>you sir are my hero any chance you remember wh...</td>\n",
       "      <td>0</td>\n",
       "    </tr>\n",
       "    <tr>\n",
       "      <th>...</th>\n",
       "      <td>...</td>\n",
       "      <td>...</td>\n",
       "    </tr>\n",
       "    <tr>\n",
       "      <th>159446</th>\n",
       "      <td>and for the second time of asking when your vi...</td>\n",
       "      <td>0</td>\n",
       "    </tr>\n",
       "    <tr>\n",
       "      <th>159447</th>\n",
       "      <td>you should be ashamed of yourself that is a ho...</td>\n",
       "      <td>0</td>\n",
       "    </tr>\n",
       "    <tr>\n",
       "      <th>159448</th>\n",
       "      <td>spitzer umm theres no actual article for prost...</td>\n",
       "      <td>0</td>\n",
       "    </tr>\n",
       "    <tr>\n",
       "      <th>159449</th>\n",
       "      <td>and it looks like it was actually you who put ...</td>\n",
       "      <td>0</td>\n",
       "    </tr>\n",
       "    <tr>\n",
       "      <th>159450</th>\n",
       "      <td>and i really don't think you understand i came...</td>\n",
       "      <td>0</td>\n",
       "    </tr>\n",
       "  </tbody>\n",
       "</table>\n",
       "<p>159292 rows × 2 columns</p>\n",
       "</div>"
      ],
      "text/plain": [
       "                                                     text  toxic\n",
       "0       explanation why the edits made under my userna...      0\n",
       "1       d'aww he matches this background colour i'm se...      0\n",
       "2       hey man i'm really not trying to edit war it's...      0\n",
       "3       more i can't make any real suggestions on impr...      0\n",
       "4       you sir are my hero any chance you remember wh...      0\n",
       "...                                                   ...    ...\n",
       "159446  and for the second time of asking when your vi...      0\n",
       "159447  you should be ashamed of yourself that is a ho...      0\n",
       "159448  spitzer umm theres no actual article for prost...      0\n",
       "159449  and it looks like it was actually you who put ...      0\n",
       "159450  and i really don't think you understand i came...      0\n",
       "\n",
       "[159292 rows x 2 columns]"
      ]
     },
     "metadata": {},
     "output_type": "display_data"
    }
   ],
   "source": [
    "def clear_text(text, re):\n",
    "    return \" \".join(re.sub(r\"[^a-zA-Z ']\", ' ', text).split()).lower()\n",
    "    \n",
    "df['text'] = df['text'].progress_apply(clear_text, re=re)\n",
    "\n",
    "display(df)"
   ]
  },
  {
   "cell_type": "code",
   "execution_count": 6,
   "metadata": {},
   "outputs": [
    {
     "data": {
      "text/plain": [
       "0    143106\n",
       "1     16186\n",
       "Name: toxic, dtype: int64"
      ]
     },
     "execution_count": 6,
     "metadata": {},
     "output_type": "execute_result"
    }
   ],
   "source": [
    "df['toxic'].value_counts()"
   ]
  },
  {
   "cell_type": "code",
   "execution_count": 7,
   "metadata": {},
   "outputs": [],
   "source": [
    "word_len = df['text'].str.split().str.len()"
   ]
  },
  {
   "cell_type": "code",
   "execution_count": 8,
   "metadata": {},
   "outputs": [
    {
     "data": {
      "image/png": "[encoded data removed]",
      "text/plain": [
       "<Figure size 1600x500 with 1 Axes>"
      ]
     },
     "metadata": {},
     "output_type": "display_data"
    }
   ],
   "source": [
    "fig, ax = plt.subplots(figsize=(16,5))\n",
    "plt.hist(word_len[word_len < 800])\n",
    "plt.grid()\n",
    "plt.xticks(range(0, 800, 30))\n",
    "plt.show()\n",
    "None"
   ]
  },
  {
   "attachments": {},
   "cell_type": "markdown",
   "metadata": {},
   "source": [
    "Судя по графику в большинстве текстов не более 240 слов. Установим максимальную длину предложений в tokenizer-е"
   ]
  },
  {
   "cell_type": "code",
   "execution_count": 9,
   "metadata": {},
   "outputs": [],
   "source": [
    "CACHE_FEATURES = True\n",
    "FEATURES_PATH = 'features.csv'\n",
    "MAX_LENGTH = 256"
   ]
  },
  {
   "cell_type": "code",
   "execution_count": 10,
   "metadata": {},
   "outputs": [],
   "source": [
    "def get_bert(device):\n",
    "    # model_class, tokenizer_class, pretrained_weights = (BertModel, BertTokenizer, 'bert-large-uncased')\n",
    "    model_class, tokenizer_class, pretrained_weights = (DistilBertModel, DistilBertTokenizer, 'distilbert-base-uncased')\n",
    "\n",
    "    tokenizer = tokenizer_class.from_pretrained(pretrained_weights)\n",
    "    model = model_class.from_pretrained(pretrained_weights)\n",
    "    model.cuda(device)\n",
    "\n",
    "    return model, tokenizer\n",
    "\n",
    "def tokenize(text, tokenizer, max_length):\n",
    "    return tokenizer.encode(\n",
    "        text, \n",
    "        truncation=True, \n",
    "        max_length=max_length, \n",
    "        add_special_tokens=True\n",
    "    )\n",
    "\n",
    "# tokenize(df['text'].iloc[0], tokenizer)\n",
    "# df['text'].apply(tokenize, tokenizer=tokenizer)"
   ]
  },
  {
   "cell_type": "code",
   "execution_count": 11,
   "metadata": {},
   "outputs": [],
   "source": [
    "def get_padded_mask(tokenized):\n",
    "    max_len = 0\n",
    "    for i in tokenized.values:\n",
    "        if len(i) > max_len:\n",
    "            max_len = len(i)\n",
    "\n",
    "    padded = np.array([i + [0]*(max_len-len(i)) for i in tokenized.values])\n",
    "    attention_mask = np.where(padded != 0, 1, 0)\n",
    "\n",
    "    padded = torch.LongTensor(padded)  \n",
    "    attention_mask = torch.LongTensor(attention_mask)\n",
    "\n",
    "    return padded, attention_mask"
   ]
  },
  {
   "cell_type": "code",
   "execution_count": 12,
   "metadata": {},
   "outputs": [],
   "source": [
    "def get_features(model, padded, attention_mask, batch_size = 100):\n",
    "    embeddings = []\n",
    "    for i in tqdm(range(math.ceil(padded.shape[0] / batch_size))):\n",
    "        padded_batch = padded[batch_size*i:batch_size*(i+1)].to(device)\n",
    "        attention_mask_batch = attention_mask[batch_size*i:batch_size*(i+1)].to(device)\n",
    "        \n",
    "        with torch.no_grad():\n",
    "            batch_embeddings = model(padded_batch, attention_mask=attention_mask_batch)\n",
    "        \n",
    "        embeddings.append(batch_embeddings[0][:,0,:].cpu().numpy())\n",
    "\n",
    "    return np.concatenate(embeddings)"
   ]
  },
  {
   "cell_type": "code",
   "execution_count": 13,
   "metadata": {},
   "outputs": [
    {
     "name": "stderr",
     "output_type": "stream",
     "text": [
      "Some weights of the model checkpoint at distilbert-base-uncased were not used when initializing DistilBertModel: ['vocab_projector.weight', 'vocab_layer_norm.bias', 'vocab_layer_norm.weight', 'vocab_projector.bias', 'vocab_transform.weight', 'vocab_transform.bias']\n",
      "- This IS expected if you are initializing DistilBertModel from the checkpoint of a model trained on another task or with another architecture (e.g. initializing a BertForSequenceClassification model from a BertForPreTraining model).\n",
      "- This IS NOT expected if you are initializing DistilBertModel from the checkpoint of a model that you expect to be exactly identical (initializing a BertForSequenceClassification model from a BertForSequenceClassification model).\n"
     ]
    },
    {
     "data": {
      "application/vnd.jupyter.widget-view+json": {
       "model_id": "da13628a56d244cdac49c61914ad5fda",
       "version_major": 2,
       "version_minor": 0
      },
      "text/plain": [
       "VBox(children=(HBox(children=(IntProgress(value=0, description='0.00%', max=26549), Label(value='0 / 26549')))…"
      ]
     },
     "metadata": {},
     "output_type": "display_data"
    },
    {
     "data": {
      "application/vnd.jupyter.widget-view+json": {
       "model_id": "95fce905dbd84daba7591ba21028e521",
       "version_major": 2,
       "version_minor": 0
      },
      "text/plain": [
       "  0%|          | 0/1593 [00:00<?, ?it/s]"
      ]
     },
     "metadata": {},
     "output_type": "display_data"
    },
    {
     "name": "stdout",
     "output_type": "stream",
     "text": [
      "[Info] Features saved to local cache\n"
     ]
    }
   ],
   "source": [
    "model, tokenizer = get_bert(device)\n",
    "\n",
    "if CACHE_FEATURES & os.path.isfile(FEATURES_PATH):\n",
    "    features = np.loadtxt(FEATURES_PATH, delimiter=',')\n",
    "\n",
    "    print('[Info] Features loaded from local cache')\n",
    "else:\n",
    "    tokenized = df['text'].parallel_apply(tokenize, tokenizer=tokenizer, max_length=MAX_LENGTH)\n",
    "\n",
    "    padded, attention_mask = get_padded_mask(tokenized)\n",
    "\n",
    "    features = get_features(model, padded, attention_mask)\n",
    "\n",
    "    if CACHE_FEATURES:\n",
    "        np.savetxt(FEATURES_PATH, features, delimiter=',')\n",
    "        print('[Info] Features saved to local cache')"
   ]
  },
  {
   "cell_type": "code",
   "execution_count": 14,
   "metadata": {},
   "outputs": [
    {
     "data": {
      "text/plain": [
       "DistilBertModel(\n",
       "  (embeddings): Embeddings(\n",
       "    (word_embeddings): Embedding(30522, 768, padding_idx=0)\n",
       "    (position_embeddings): Embedding(512, 768)\n",
       "    (LayerNorm): LayerNorm((768,), eps=1e-12, elementwise_affine=True)\n",
       "    (dropout): Dropout(p=0.1, inplace=False)\n",
       "  )\n",
       "  (transformer): Transformer(\n",
       "    (layer): ModuleList(\n",
       "      (0-5): 6 x TransformerBlock(\n",
       "        (attention): MultiHeadSelfAttention(\n",
       "          (dropout): Dropout(p=0.1, inplace=False)\n",
       "          (q_lin): Linear(in_features=768, out_features=768, bias=True)\n",
       "          (k_lin): Linear(in_features=768, out_features=768, bias=True)\n",
       "          (v_lin): Linear(in_features=768, out_features=768, bias=True)\n",
       "          (out_lin): Linear(in_features=768, out_features=768, bias=True)\n",
       "        )\n",
       "        (sa_layer_norm): LayerNorm((768,), eps=1e-12, elementwise_affine=True)\n",
       "        (ffn): FFN(\n",
       "          (dropout): Dropout(p=0.1, inplace=False)\n",
       "          (lin1): Linear(in_features=768, out_features=3072, bias=True)\n",
       "          (lin2): Linear(in_features=3072, out_features=768, bias=True)\n",
       "          (activation): GELUActivation()\n",
       "        )\n",
       "        (output_layer_norm): LayerNorm((768,), eps=1e-12, elementwise_affine=True)\n",
       "      )\n",
       "    )\n",
       "  )\n",
       ")"
      ]
     },
     "execution_count": 14,
     "metadata": {},
     "output_type": "execute_result"
    }
   ],
   "source": [
    "model"
   ]
  },
  {
   "attachments": {},
   "cell_type": "markdown",
   "metadata": {},
   "source": [
    "Как видно из документации и вывода модели на экран на входе 512 нейронов, на выходе будет получено 768 фич"
   ]
  },
  {
   "attachments": {},
   "cell_type": "markdown",
   "metadata": {},
   "source": [
    "### Вывод:\n",
    "\n",
    "Подготовлены данные для обучения, созданы embedding и релизовано сохранение, чтобы не ждать их формирования в дальнейшем.\n",
    "\n",
    "Загружена предобучнная модель DistBert, использован GPU.\n",
    "\n",
    "Чтобы ускорить токенизацию использован pandarallel для параллельной работы.\n",
    "\n",
    "Установлено ограничение на длину предложения, чтобы сократить размер входных данных и ускорить работу модели."
   ]
  },
  {
   "attachments": {},
   "cell_type": "markdown",
   "metadata": {},
   "source": [
    "## Обучение"
   ]
  },
  {
   "cell_type": "code",
   "execution_count": 15,
   "metadata": {},
   "outputs": [],
   "source": [
    "def plot_confusion_matrix(y_test, y_preds, model):\n",
    "    fig, ax = plt.subplots(figsize=(8,5))\n",
    "    cm = confusion_matrix(y_test, y_preds)\n",
    "    cmp = ConfusionMatrixDisplay(cm, display_labels = model.classes_ )\n",
    "    cmp.plot(ax=ax)\n",
    "    plt.show()"
   ]
  },
  {
   "cell_type": "code",
   "execution_count": 16,
   "metadata": {},
   "outputs": [],
   "source": [
    "def search_best_estimator(pipeline, param_grid, x, y):\n",
    "    hrs = GridSearchCV(\n",
    "        estimator=pipeline,\n",
    "        param_grid=param_grid,\n",
    "        scoring='f1',\n",
    "        cv=3,\n",
    "        # n_candidates=\"exhaust\",\n",
    "        # factor=5,\n",
    "        n_jobs=-1,\n",
    "        verbose=2\n",
    "    )\n",
    "    _ = hrs.fit(x, y)\n",
    "    return hrs.best_estimator_, hrs.best_params_, hrs.best_score_"
   ]
  },
  {
   "cell_type": "code",
   "execution_count": 17,
   "metadata": {},
   "outputs": [],
   "source": [
    "labels = df['toxic']\n",
    "\n",
    "train_features, test_features, train_labels, test_labels = train_test_split(features, labels, test_size=0.3, random_state=12345)\n",
    "\n",
    "nm = NearMiss()\n",
    "train_features, train_labels = nm.fit_resample(train_features, train_labels)"
   ]
  },
  {
   "cell_type": "code",
   "execution_count": 18,
   "metadata": {},
   "outputs": [
    {
     "name": "stdout",
     "output_type": "stream",
     "text": [
      "Fitting 3 folds for each of 1 candidates, totalling 3 fits\n",
      "F1 cv 0.8946658058084646\n",
      "{'clf__C': 5.26325, 'clf__max_iter': 2500, 'clf__solver': 'liblinear'}\n"
     ]
    }
   ],
   "source": [
    "lr_pipe = Pipeline([\n",
    "    ('clf', LogisticRegression(random_state=12345, solver='liblinear', class_weight='balanced'))\n",
    "])\n",
    "\n",
    "param_grid = {\n",
    "    # 'clf__solver' : ['liblinear'],\n",
    "    # 'clf__max_iter' : [2500, 5000],\n",
    "    # 'clf__C': np.linspace(0.0001, 100, 20)\n",
    "\n",
    "    'clf__solver' : ['liblinear'],\n",
    "    'clf__max_iter' : [2500],\n",
    "    'clf__C': [5.26325]\n",
    "}\n",
    "\n",
    "lr_estimator, lr_best_params, lr_best_score = search_best_estimator(lr_pipe, param_grid, train_features, train_labels)\n",
    "\n",
    "print('F1 cv', lr_best_score)\n",
    "print(lr_best_params)"
   ]
  },
  {
   "cell_type": "code",
   "execution_count": 19,
   "metadata": {},
   "outputs": [
    {
     "name": "stdout",
     "output_type": "stream",
     "text": [
      "Fitting 3 folds for each of 1 candidates, totalling 3 fits\n",
      "F1 cv: 0.848528388809045\n",
      "{'clf__max_depth': 5, 'clf__min_samples_leaf': 2, 'clf__min_samples_split': 2, 'clf__n_estimators': 500}\n"
     ]
    }
   ],
   "source": [
    "rf_pipe = Pipeline([\n",
    "    ('clf', RandomForestClassifier(random_state=12345))\n",
    "])\n",
    "param_grid = {\n",
    "    # \"clf__n_estimators\": [i for i in range(100,600,100)],\n",
    "    # \"clf__max_depth\": [i for i in range(5,15,5)],\n",
    "    # \"clf__min_samples_split\":[i for i in range(2,4,2)],\n",
    "    # \"clf__min_samples_leaf\": [2],\n",
    "\n",
    "    \"clf__n_estimators\": [500],\n",
    "    \"clf__max_depth\": [5],\n",
    "    \"clf__min_samples_split\":[2],\n",
    "    \"clf__min_samples_leaf\": [2],\n",
    "}\n",
    "\n",
    "rf_estimator, rf_best_params, rf_best_score = search_best_estimator(rf_pipe, param_grid, train_features, train_labels)\n",
    "\n",
    "print('F1 cv:', rf_best_score)\n",
    "print(rf_best_params)"
   ]
  },
  {
   "cell_type": "code",
   "execution_count": 20,
   "metadata": {},
   "outputs": [],
   "source": [
    "# cb_pipe = Pipeline([\n",
    "#     ('clf', CatBoostClassifier(iterations=300, verbose=100))\n",
    "# ])\n",
    "# param_grid = {\n",
    "#     \"clf__learning_rate\": [0.1] #[i/10 for i in range(1,3,1)] \n",
    "# }\n",
    "\n",
    "# cb_estimator, cb_best_params, cb_best_score = search_best_estimator(cb_pipe, param_grid, train_features, train_labels)\n",
    "\n",
    "# print('F1 cv:', cb_best_score)"
   ]
  },
  {
   "cell_type": "code",
   "execution_count": 21,
   "metadata": {},
   "outputs": [
    {
     "data": {
      "text/html": [
       "<div>\n",
       "<style scoped>\n",
       "    .dataframe tbody tr th:only-of-type {\n",
       "        vertical-align: middle;\n",
       "    }\n",
       "\n",
       "    .dataframe tbody tr th {\n",
       "        vertical-align: top;\n",
       "    }\n",
       "\n",
       "    .dataframe thead th {\n",
       "        text-align: right;\n",
       "    }\n",
       "</style>\n",
       "<table border=\"1\" class=\"dataframe\">\n",
       "  <thead>\n",
       "    <tr style=\"text-align: right;\">\n",
       "      <th></th>\n",
       "      <th>pipelines</th>\n",
       "      <th>scores</th>\n",
       "    </tr>\n",
       "  </thead>\n",
       "  <tbody>\n",
       "    <tr>\n",
       "      <th>0</th>\n",
       "      <td>(LogisticRegression(class_weight='balanced', r...</td>\n",
       "      <td>0.894666</td>\n",
       "    </tr>\n",
       "    <tr>\n",
       "      <th>1</th>\n",
       "      <td>(RandomForestClassifier(random_state=12345))</td>\n",
       "      <td>0.848528</td>\n",
       "    </tr>\n",
       "  </tbody>\n",
       "</table>\n",
       "</div>"
      ],
      "text/plain": [
       "                                           pipelines    scores\n",
       "0  (LogisticRegression(class_weight='balanced', r...  0.894666\n",
       "1       (RandomForestClassifier(random_state=12345))  0.848528"
      ]
     },
     "metadata": {},
     "output_type": "display_data"
    }
   ],
   "source": [
    "pipelines = pd.DataFrame(\n",
    "    {\n",
    "        \"pipelines\": [\n",
    "            lr_pipe,\n",
    "            rf_pipe,\n",
    "            # cb_pipe\n",
    "        ],\n",
    "        \"scores\": [\n",
    "            lr_best_score, \n",
    "            rf_best_score, \n",
    "            # cb_best_score\n",
    "        ]\n",
    "    }\n",
    ").sort_values(by='scores', ascending=False)\n",
    "display(pipelines)\n",
    "pipeline = pipelines.iloc[0]['pipelines']"
   ]
  },
  {
   "cell_type": "code",
   "execution_count": 22,
   "metadata": {},
   "outputs": [
    {
     "data": {
      "image/png": "[encoded data removed]",
      "text/plain": [
       "<Figure size 800x500 with 2 Axes>"
      ]
     },
     "metadata": {},
     "output_type": "display_data"
    },
    {
     "name": "stdout",
     "output_type": "stream",
     "text": [
      "F1: 0.287143141021395\n"
     ]
    }
   ],
   "source": [
    "pipeline.fit(train_features, train_labels)\n",
    "\n",
    "predictions = pipeline.predict(test_features)\n",
    "\n",
    "plot_confusion_matrix(test_labels, predictions, pipeline)\n",
    "print('F1:', f1_score(test_labels, predictions))"
   ]
  },
  {
   "cell_type": "code",
   "execution_count": 23,
   "metadata": {},
   "outputs": [
    {
     "name": "stdout",
     "output_type": "stream",
     "text": [
      "F1: 0.16518804578506072\n"
     ]
    }
   ],
   "source": [
    "clf = DummyClassifier(strategy='stratified', random_state=12345)\n",
    "clf.fit(train_features, train_labels)\n",
    "predictions = clf.predict(test_features)\n",
    "print('F1:', f1_score(test_labels, clf.predict(test_features)))"
   ]
  },
  {
   "attachments": {},
   "cell_type": "markdown",
   "metadata": {},
   "source": [
    "## Выводы"
   ]
  },
  {
   "attachments": {},
   "cell_type": "markdown",
   "metadata": {},
   "source": [
    "Сомневаюсь, что Bert или DistBert так плох, возможно я просто не умею его готовить. \n",
    "\n",
    "Если не убирать дисбаланс то результат выше, но я считаю что убирать его надо, т.к в какие-то периоды времени токсичных комментариев может быть больше.\n",
    "\n",
    "Подбор гиперпараметров, я считаю, уже больше не даст\n",
    "\n",
    "Лемматизацию и удаление стоп-слов в случае Bert-а говорят не делать, потому что он сам это понимает.\n",
    "\n",
    "Переносы строк и мусорные символы я удалил.\n",
    "\n",
    "Прошу рекомендаций куда копать и почему такая низкая точность.\n",
    "\n",
    "Хочется использовать Bert, потому что TF-IDF уже применял в мастерской."
   ]
  },
  {
   "attachments": {},
   "cell_type": "markdown",
   "metadata": {},
   "source": [
    "## Чек-лист проверки"
   ]
  },
  {
   "attachments": {},
   "cell_type": "markdown",
   "metadata": {},
   "source": [
    "- [x]  Jupyter Notebook открыт\n",
    "- [x]  Весь код выполняется без ошибок\n",
    "- [x]  Ячейки с кодом расположены в порядке исполнения\n",
    "- [x]  Данные загружены и подготовлены\n",
    "- [x]  Модели обучены\n",
    "- [-]  Значение метрики *F1* не меньше 0.75\n",
    "- [x]  Выводы написаны"
   ]
  }
 ],
 "metadata": {
  "ExecuteTimeLog": [
   {
    "duration": 435,
    "start_time": "2023-06-29T12:52:59.806Z"
   },
   {
    "duration": 180,
    "start_time": "2023-06-29T12:53:00.243Z"
   },
   {
    "duration": 2664,
    "start_time": "2023-06-29T12:53:07.700Z"
   },
   {
    "duration": 824,
    "start_time": "2023-06-29T12:53:26.321Z"
   },
   {
    "duration": 8,
    "start_time": "2023-06-29T12:55:28.368Z"
   },
   {
    "duration": 901,
    "start_time": "2023-06-29T12:55:28.379Z"
   },
   {
    "duration": 15,
    "start_time": "2023-06-29T12:55:30.625Z"
   },
   {
    "duration": 720,
    "start_time": "2023-06-29T12:55:52.408Z"
   },
   {
    "duration": 833,
    "start_time": "2023-06-29T13:21:20.097Z"
   },
   {
    "duration": 50,
    "start_time": "2023-06-29T13:23:30.138Z"
   },
   {
    "duration": 3607,
    "start_time": "2023-06-30T10:14:19.342Z"
   },
   {
    "duration": 2428,
    "start_time": "2023-06-30T10:14:22.952Z"
   },
   {
    "duration": 5,
    "start_time": "2023-06-30T10:14:25.383Z"
   },
   {
    "duration": 40147,
    "start_time": "2023-06-30T10:14:25.390Z"
   },
   {
    "duration": 76,
    "start_time": "2023-06-30T10:15:08.929Z"
   }
  ],
  "kernelspec": {
   "display_name": "Python 3 (ipykernel)",
   "language": "python",
   "name": "python3"
  },
  "language_info": {
   "codemirror_mode": {
    "name": "ipython",
    "version": 3
   },
   "file_extension": ".py",
   "mimetype": "text/x-python",
   "name": "python",
   "nbconvert_exporter": "python",
   "pygments_lexer": "ipython3",
   "version": "3.10.6"
  },
  "toc": {
   "base_numbering": 1,
   "nav_menu": {},
   "number_sections": true,
   "sideBar": true,
   "skip_h1_title": true,
   "title_cell": "Содержание",
   "title_sidebar": "Contents",
   "toc_cell": true,
   "toc_position": {
    "height": "calc(100% - 180px)",
    "left": "10px",
    "top": "150px",
    "width": "302.391px"
   },
   "toc_section_display": true,
   "toc_window_display": false
  }
 },
 "nbformat": 4,
 "nbformat_minor": 2
}

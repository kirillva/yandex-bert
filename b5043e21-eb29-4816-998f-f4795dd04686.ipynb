{
 "cells": [
  {
   "attachments": {},
   "cell_type": "markdown",
   "metadata": {
    "toc": true
   },
   "source": [
    "<h1>Содержание<span class=\"tocSkip\"></span></h1>\n",
    "<div class=\"toc\"><ul class=\"toc-item\"><li><span><a href=\"#Подготовка\" data-toc-modified-id=\"Подготовка-1\"><span class=\"toc-item-num\">1&nbsp;&nbsp;</span>Подготовка</a></span></li><li><span><a href=\"#Обучение\" data-toc-modified-id=\"Обучение-2\"><span class=\"toc-item-num\">2&nbsp;&nbsp;</span>Обучение</a></span></li><li><span><a href=\"#Выводы\" data-toc-modified-id=\"Выводы-3\"><span class=\"toc-item-num\">3&nbsp;&nbsp;</span>Выводы</a></span></li><li><span><a href=\"#Чек-лист-проверки\" data-toc-modified-id=\"Чек-лист-проверки-4\"><span class=\"toc-item-num\">4&nbsp;&nbsp;</span>Чек-лист проверки</a></span></li></ul></div>"
   ]
  },
  {
   "attachments": {},
   "cell_type": "markdown",
   "metadata": {},
   "source": [
    "# Проект для «Викишоп» c BERT"
   ]
  },
  {
   "attachments": {},
   "cell_type": "markdown",
   "metadata": {},
   "source": [
    "Интернет-магазин «Викишоп» запускает новый сервис. Теперь пользователи могут редактировать и дополнять описания товаров, как в вики-сообществах. То есть клиенты предлагают свои правки и комментируют изменения других. Магазину нужен инструмент, который будет искать токсичные комментарии и отправлять их на модерацию. \n",
    "\n",
    "Обучите модель классифицировать комментарии на позитивные и негативные. В вашем распоряжении набор данных с разметкой о токсичности правок.\n",
    "\n",
    "Постройте модель со значением метрики качества *F1* не меньше 0.75. \n",
    "\n",
    "**Инструкция по выполнению проекта**\n",
    "\n",
    "1. Загрузите и подготовьте данные.\n",
    "2. Обучите разные модели. \n",
    "3. Сделайте выводы.\n",
    "\n",
    "Для выполнения проекта применять *BERT* необязательно, но вы можете попробовать.\n",
    "\n",
    "**Описание данных**\n",
    "\n",
    "Данные находятся в файле `toxic_comments.csv`. Столбец *text* в нём содержит текст комментария, а *toxic* — целевой признак."
   ]
  },
  {
   "attachments": {},
   "cell_type": "markdown",
   "metadata": {},
   "source": [
    "## Подготовка"
   ]
  },
  {
   "cell_type": "code",
   "execution_count": 44,
   "metadata": {},
   "outputs": [
    {
     "name": "stdout",
     "output_type": "stream",
     "text": [
      "INFO: Pandarallel will run on 6 workers.\n",
      "INFO: Pandarallel will use standard multiprocessing data transfer (pipe) to transfer data between the main process and workers.\n",
      "\n",
      "WARNING: You are on Windows. If you detect any issue with pandarallel, be sure you checked out the Troubleshooting page:\n",
      "https://nalepae.github.io/pandarallel/troubleshooting/\n"
     ]
    }
   ],
   "source": [
    "import numpy as np\n",
    "import pandas as pd\n",
    "import torch\n",
    "\n",
    "from transformers import (\n",
    "    BertModel,\n",
    "    BertTokenizer,\n",
    "    DistilBertModel,\n",
    "    DistilBertTokenizer\n",
    ")\n",
    "from sklearn.linear_model import LogisticRegression\n",
    "# from sklearn.model_selection import cross_val_score\n",
    "from sklearn.model_selection import train_test_split, GridSearchCV\n",
    "from sklearn.metrics import (\n",
    "    ConfusionMatrixDisplay, confusion_matrix,\n",
    "    f1_score\n",
    ")\n",
    "\n",
    "import matplotlib.pyplot as plt\n",
    "\n",
    "\n",
    "from tqdm.notebook import tqdm\n",
    "tqdm.pandas()\n",
    "\n",
    "from joblib import Parallel, delayed\n",
    "\n",
    "from pandarallel import pandarallel\n",
    "pandarallel.initialize(progress_bar=True)\n",
    "\n",
    "import gc\n",
    "import math\n",
    "\n",
    "import os.path\n",
    "\n",
    "\n",
    "from sklearn.pipeline import Pipeline\n",
    "\n",
    "from catboost import CatBoostClassifier\n",
    "from sklearn.ensemble import RandomForestClassifier\n",
    "\n",
    "from imblearn.under_sampling import NearMiss \n",
    "\n",
    "\n",
    "from pymystem3 import Mystem\n",
    "import re\n"
   ]
  },
  {
   "cell_type": "code",
   "execution_count": 45,
   "metadata": {},
   "outputs": [
    {
     "name": "stdout",
     "output_type": "stream",
     "text": [
      "There are 1 GPU(s) available.\n",
      "We will use the GPU: NVIDIA GeForce RTX 3070\n"
     ]
    }
   ],
   "source": [
    "if torch.cuda.is_available():    \n",
    "    device = torch.device(\"cuda\")\n",
    "    torch.cuda.empty_cache()\n",
    "    gc.collect()\n",
    "    print('There are %d GPU(s) available.' % torch.cuda.device_count())\n",
    "\n",
    "    print('We will use the GPU:', torch.cuda.get_device_name(0))\n",
    "\n",
    "else:\n",
    "    print('No GPU available, using the CPU instead.')\n",
    "    device = torch.device(\"cpu\")"
   ]
  },
  {
   "cell_type": "code",
   "execution_count": 46,
   "metadata": {},
   "outputs": [
    {
     "name": "stdout",
     "output_type": "stream",
     "text": [
      "<class 'pandas.core.frame.DataFrame'>\n",
      "Int64Index: 159292 entries, 0 to 159450\n",
      "Data columns (total 2 columns):\n",
      " #   Column  Non-Null Count   Dtype \n",
      "---  ------  --------------   ----- \n",
      " 0   text    159292 non-null  object\n",
      " 1   toxic   159292 non-null  int64 \n",
      "dtypes: int64(1), object(1)\n",
      "memory usage: 3.6+ MB\n"
     ]
    }
   ],
   "source": [
    "df = pd.read_csv('datasets/toxic_comments.csv', index_col=[0])\n",
    "df.info()"
   ]
  },
  {
   "cell_type": "code",
   "execution_count": 62,
   "metadata": {},
   "outputs": [],
   "source": [
    "df = df.sample(10000, random_state=12345)"
   ]
  },
  {
   "cell_type": "code",
   "execution_count": 63,
   "metadata": {},
   "outputs": [
    {
     "data": {
      "application/vnd.jupyter.widget-view+json": {
       "model_id": "52b39302839546f39077fc17b3d1e6db",
       "version_major": 2,
       "version_minor": 0
      },
      "text/plain": [
       "  0%|          | 0/10000 [00:00<?, ?it/s]"
      ]
     },
     "metadata": {},
     "output_type": "display_data"
    }
   ],
   "source": [
    "def clear_text(text, re):\n",
    "    return \" \".join(re.sub(r\"[^a-zA-Z ']\", ' ', text).split()).lower()\n",
    "    \n",
    "# lemmatize(clear_text(df['text'].iloc[0], re=re))\n",
    "\n",
    "df['text'] = df['text'].progress_apply(clear_text, re=re)\n",
    "\n",
    "display(df)"
   ]
  },
  {
   "cell_type": "code",
   "execution_count": 49,
   "metadata": {},
   "outputs": [
    {
     "data": {
      "text/plain": [
       "0    143106\n",
       "1     16186\n",
       "Name: toxic, dtype: int64"
      ]
     },
     "execution_count": 49,
     "metadata": {},
     "output_type": "execute_result"
    }
   ],
   "source": [
    "df['toxic'].value_counts()"
   ]
  },
  {
   "cell_type": "code",
   "execution_count": 50,
   "metadata": {},
   "outputs": [],
   "source": [
    "word_len = df['text'].str.split().str.len()"
   ]
  },
  {
   "cell_type": "code",
   "execution_count": 61,
   "metadata": {},
   "outputs": [
    {
     "data": {
      "image/png": "[encoded data removed]",
      "text/plain": [
       "<Figure size 1600x500 with 1 Axes>"
      ]
     },
     "metadata": {},
     "output_type": "display_data"
    }
   ],
   "source": [
    "fig, ax = plt.subplots(figsize=(16,5))\n",
    "plt.hist(word_len[word_len])\n",
    "plt.grid()\n",
    "plt.xticks(range(0, 800, 30))\n",
    "plt.show()\n",
    "None"
   ]
  },
  {
   "attachments": {},
   "cell_type": "markdown",
   "metadata": {},
   "source": [
    "Судя по графику в большинстве текстов не более 240 слов. Установим максимальную длину предложений в tokenizer-е"
   ]
  },
  {
   "cell_type": "code",
   "execution_count": 7,
   "metadata": {},
   "outputs": [],
   "source": [
    "CACHE_FEATURES = False\n",
    "FEATURES_PATH = 'features.csv'\n",
    "MAX_LENGTH = 256"
   ]
  },
  {
   "cell_type": "code",
   "execution_count": 30,
   "metadata": {},
   "outputs": [
    {
     "name": "stderr",
     "output_type": "stream",
     "text": [
      "Token indices sequence length is longer than the specified maximum sequence length for this model (543 > 512). Running this sequence through the model will result in indexing errors\n"
     ]
    },
    {
     "data": {
      "text/plain": [
       "109583    [101, 6739, 4937, 20265, 25709, 2869, 2339, 20...\n",
       "105077                   [101, 5005, 2521, 2102, 2831, 102]\n",
       "82244     [101, 2019, 25617, 3796, 2003, 6413, 2130, 200...\n",
       "18740     [101, 1045, 2123, 1005, 1056, 3305, 2339, 2057...\n",
       "128310    [101, 7592, 2070, 1997, 1996, 2111, 3182, 2030...\n",
       "                                ...                        \n",
       "103202    [101, 2019, 3720, 2029, 2017, 2318, 2030, 6022...\n",
       "151393    [101, 3931, 2011, 1996, 2203, 1997, 2088, 2162...\n",
       "115288    [101, 2025, 2000, 2022, 6404, 2045, 2024, 2116...\n",
       "55223     [101, 5432, 16948, 2003, 2025, 1037, 2208, 285...\n",
       "82845     [101, 7570, 14510, 2186, 3494, 7632, 2045, 104...\n",
       "Name: text, Length: 10000, dtype: object"
      ]
     },
     "execution_count": 30,
     "metadata": {},
     "output_type": "execute_result"
    }
   ],
   "source": [
    "def get_bert(device):\n",
    "    model_class, tokenizer_class, pretrained_weights = (BertModel, BertTokenizer, 'bert-base-uncased')\n",
    "    # model_class, tokenizer_class, pretrained_weights = (DistilBertModel, DistilBertTokenizer, 'distilbert-base-uncased')\n",
    "\n",
    "    tokenizer = tokenizer_class.from_pretrained(pretrained_weights)\n",
    "    model = model_class.from_pretrained(pretrained_weights)\n",
    "    model.cuda(device)\n",
    "\n",
    "    return model, tokenizer\n",
    "\n",
    "def tokenize(text, tokenizer, max_length):\n",
    "    return tokenizer.encode(\n",
    "        text, \n",
    "        truncation=True, \n",
    "        max_length=max_length, \n",
    "        add_special_tokens=True\n",
    "    )\n",
    "\n",
    "# tokenize(df['text'].iloc[0], tokenizer)\n",
    "# df['text'].apply(tokenize, tokenizer=tokenizer)"
   ]
  },
  {
   "cell_type": "code",
   "execution_count": 9,
   "metadata": {},
   "outputs": [],
   "source": [
    "def get_padded_mask(tokenized):\n",
    "    max_len = 0\n",
    "    for i in tokenized.values:\n",
    "        if len(i) > max_len:\n",
    "            max_len = len(i)\n",
    "\n",
    "    padded = np.array([i + [0]*(max_len-len(i)) for i in tokenized.values])\n",
    "    attention_mask = np.where(padded != 0, 1, 0)\n",
    "\n",
    "    padded = torch.LongTensor(padded)  \n",
    "    attention_mask = torch.LongTensor(attention_mask)\n",
    "\n",
    "    return padded, attention_mask"
   ]
  },
  {
   "cell_type": "code",
   "execution_count": 10,
   "metadata": {},
   "outputs": [],
   "source": [
    "def get_features(model, padded, attention_mask, batch_size = 100):\n",
    "    embeddings = []\n",
    "    for i in tqdm(range(math.ceil(padded.shape[0] / batch_size))):\n",
    "        padded_batch = padded[batch_size*i:batch_size*(i+1)].to(device)\n",
    "        attention_mask_batch = attention_mask[batch_size*i:batch_size*(i+1)].to(device)\n",
    "        \n",
    "        with torch.no_grad():\n",
    "            batch_embeddings = model(padded_batch, attention_mask=attention_mask_batch)\n",
    "        \n",
    "        embeddings.append(batch_embeddings[0][:,0,:].cpu().numpy())\n",
    "\n",
    "    return np.concatenate(embeddings)"
   ]
  },
  {
   "cell_type": "code",
   "execution_count": 11,
   "metadata": {},
   "outputs": [
    {
     "name": "stderr",
     "output_type": "stream",
     "text": [
      "Some weights of the model checkpoint at bert-base-uncased were not used when initializing BertModel: ['cls.predictions.bias', 'cls.predictions.transform.dense.weight', 'cls.predictions.transform.dense.bias', 'cls.seq_relationship.weight', 'cls.predictions.transform.LayerNorm.bias', 'cls.predictions.transform.LayerNorm.weight', 'cls.predictions.decoder.weight', 'cls.seq_relationship.bias']\n",
      "- This IS expected if you are initializing BertModel from the checkpoint of a model trained on another task or with another architecture (e.g. initializing a BertForSequenceClassification model from a BertForPreTraining model).\n",
      "- This IS NOT expected if you are initializing BertModel from the checkpoint of a model that you expect to be exactly identical (initializing a BertForSequenceClassification model from a BertForSequenceClassification model).\n"
     ]
    },
    {
     "data": {
      "application/vnd.jupyter.widget-view+json": {
       "model_id": "1d64391272dd48068090074ff3b704eb",
       "version_major": 2,
       "version_minor": 0
      },
      "text/plain": [
       "VBox(children=(HBox(children=(IntProgress(value=0, description='0.00%', max=1667), Label(value='0 / 1667'))), …"
      ]
     },
     "metadata": {},
     "output_type": "display_data"
    },
    {
     "data": {
      "application/vnd.jupyter.widget-view+json": {
       "model_id": "b201911445fc45c89767958a11ad3a08",
       "version_major": 2,
       "version_minor": 0
      },
      "text/plain": [
       "  0%|          | 0/100 [00:00<?, ?it/s]"
      ]
     },
     "metadata": {},
     "output_type": "display_data"
    },
    {
     "ename": "KeyboardInterrupt",
     "evalue": "",
     "output_type": "error",
     "traceback": [
      "\u001b[1;31m---------------------------------------------------------------------------\u001b[0m",
      "\u001b[1;31mKeyboardInterrupt\u001b[0m                         Traceback (most recent call last)",
      "\u001b[1;32mc:\\git\\ya-bert\\b5043e21-eb29-4816-998f-f4795dd04686.ipynb Cell 15\u001b[0m in \u001b[0;36m<cell line: 3>\u001b[1;34m()\u001b[0m\n\u001b[0;32m      <a href='vscode-notebook-cell:/c%3A/git/ya-bert/b5043e21-eb29-4816-998f-f4795dd04686.ipynb#X15sZmlsZQ%3D%3D?line=7'>8</a>\u001b[0m tokenized \u001b[39m=\u001b[39m df[\u001b[39m'\u001b[39m\u001b[39mtext\u001b[39m\u001b[39m'\u001b[39m]\u001b[39m.\u001b[39mparallel_apply(lokenize, tokenizer\u001b[39m=\u001b[39mtokenizer, max_length\u001b[39m=\u001b[39mMAX_LENGTH)\n\u001b[0;32m     <a href='vscode-notebook-cell:/c%3A/git/ya-bert/b5043e21-eb29-4816-998f-f4795dd04686.ipynb#X15sZmlsZQ%3D%3D?line=9'>10</a>\u001b[0m padded, attention_mask \u001b[39m=\u001b[39m get_padded_mask(tokenized)\n\u001b[1;32m---> <a href='vscode-notebook-cell:/c%3A/git/ya-bert/b5043e21-eb29-4816-998f-f4795dd04686.ipynb#X15sZmlsZQ%3D%3D?line=11'>12</a>\u001b[0m features \u001b[39m=\u001b[39m get_features(model, padded, attention_mask)\n\u001b[0;32m     <a href='vscode-notebook-cell:/c%3A/git/ya-bert/b5043e21-eb29-4816-998f-f4795dd04686.ipynb#X15sZmlsZQ%3D%3D?line=13'>14</a>\u001b[0m \u001b[39mif\u001b[39;00m CACHE_FEATURES:\n\u001b[0;32m     <a href='vscode-notebook-cell:/c%3A/git/ya-bert/b5043e21-eb29-4816-998f-f4795dd04686.ipynb#X15sZmlsZQ%3D%3D?line=14'>15</a>\u001b[0m     np\u001b[39m.\u001b[39msavetxt(FEATURES_PATH, features, delimiter\u001b[39m=\u001b[39m\u001b[39m'\u001b[39m\u001b[39m,\u001b[39m\u001b[39m'\u001b[39m)\n",
      "\u001b[1;32mc:\\git\\ya-bert\\b5043e21-eb29-4816-998f-f4795dd04686.ipynb Cell 15\u001b[0m in \u001b[0;36mget_features\u001b[1;34m(model, padded, attention_mask, batch_size)\u001b[0m\n\u001b[0;32m      <a href='vscode-notebook-cell:/c%3A/git/ya-bert/b5043e21-eb29-4816-998f-f4795dd04686.ipynb#X15sZmlsZQ%3D%3D?line=6'>7</a>\u001b[0m     \u001b[39mwith\u001b[39;00m torch\u001b[39m.\u001b[39mno_grad():\n\u001b[0;32m      <a href='vscode-notebook-cell:/c%3A/git/ya-bert/b5043e21-eb29-4816-998f-f4795dd04686.ipynb#X15sZmlsZQ%3D%3D?line=7'>8</a>\u001b[0m         batch_embeddings \u001b[39m=\u001b[39m model(padded_batch, attention_mask\u001b[39m=\u001b[39mattention_mask_batch)\n\u001b[1;32m---> <a href='vscode-notebook-cell:/c%3A/git/ya-bert/b5043e21-eb29-4816-998f-f4795dd04686.ipynb#X15sZmlsZQ%3D%3D?line=9'>10</a>\u001b[0m     embeddings\u001b[39m.\u001b[39mappend(batch_embeddings[\u001b[39m0\u001b[39;49m][:,\u001b[39m0\u001b[39;49m,:]\u001b[39m.\u001b[39;49mcpu()\u001b[39m.\u001b[39mnumpy())\n\u001b[0;32m     <a href='vscode-notebook-cell:/c%3A/git/ya-bert/b5043e21-eb29-4816-998f-f4795dd04686.ipynb#X15sZmlsZQ%3D%3D?line=11'>12</a>\u001b[0m \u001b[39mreturn\u001b[39;00m np\u001b[39m.\u001b[39mconcatenate(embeddings)\n",
      "\u001b[1;31mKeyboardInterrupt\u001b[0m: "
     ]
    }
   ],
   "source": [
    "model, tokenizer = get_bert(device)\n",
    "\n",
    "if CACHE_FEATURES & os.path.isfile(FEATURES_PATH):\n",
    "    features = np.loadtxt(FEATURES_PATH, delimiter=',')\n",
    "\n",
    "    print('[Info] Features loaded from local cache')\n",
    "else:\n",
    "    tokenized = df['text'].parallel_apply(lokenize, tokenizer=tokenizer, max_length=MAX_LENGTH)\n",
    "\n",
    "    padded, attention_mask = get_padded_mask(tokenized)\n",
    "\n",
    "    features = get_features(model, padded, attention_mask)\n",
    "\n",
    "    if CACHE_FEATURES:\n",
    "        np.savetxt(FEATURES_PATH, features, delimiter=',')\n",
    "        print('[Info] Features saved to local cache')"
   ]
  },
  {
   "attachments": {},
   "cell_type": "markdown",
   "metadata": {},
   "source": [
    "### Вывод:\n",
    "Подготовлены данные для обучения, созданы embedding и релизовано сохранение, чтобы не ждать их формирования в дальнейшем.\n",
    "Загружена предобучнная модель Bert, использован GPU.\n",
    "Чтобы ускорить токенизацию использован pandarallel для параллельной работы.\n"
   ]
  },
  {
   "attachments": {},
   "cell_type": "markdown",
   "metadata": {},
   "source": [
    "## Обучение"
   ]
  },
  {
   "cell_type": "code",
   "execution_count": null,
   "metadata": {},
   "outputs": [],
   "source": [
    "def plot_confusion_matrix(y_test, y_preds, model):\n",
    "    fig, ax = plt.subplots(figsize=(8,5))\n",
    "    cm = confusion_matrix(y_test, y_preds)\n",
    "    cmp = ConfusionMatrixDisplay(cm, display_labels = model.classes_ )\n",
    "    cmp.plot(ax=ax)\n",
    "    plt.show()"
   ]
  },
  {
   "cell_type": "code",
   "execution_count": null,
   "metadata": {},
   "outputs": [],
   "source": [
    "def search_best_estimator(pipeline, param_grid, x, y):\n",
    "    hrs = GridSearchCV(\n",
    "        estimator=pipeline,\n",
    "        param_grid=param_grid,\n",
    "        scoring='f1',\n",
    "        cv=3,\n",
    "        # n_candidates=\"exhaust\",\n",
    "        # factor=5,\n",
    "        n_jobs=-1,\n",
    "        verbose=2\n",
    "    )\n",
    "    _ = hrs.fit(x, y)\n",
    "    return hrs.best_estimator_, hrs.best_params_, hrs.best_score_"
   ]
  },
  {
   "attachments": {},
   "cell_type": "markdown",
   "metadata": {},
   "source": [
    "С использованием NearMiss из-за разбалансированности классов"
   ]
  },
  {
   "cell_type": "code",
   "execution_count": null,
   "metadata": {},
   "outputs": [],
   "source": [
    "labels = df['toxic']\n",
    "\n",
    "train_features, test_features, train_labels, test_labels = train_test_split(features, labels, test_size=0.5, random_state=12345)\n",
    "\n",
    "# nm = NearMiss()\n",
    "# train_features, train_labels = nm.fit_resample(train_features, train_labels)"
   ]
  },
  {
   "cell_type": "code",
   "execution_count": null,
   "metadata": {},
   "outputs": [
    {
     "name": "stdout",
     "output_type": "stream",
     "text": [
      "Fitting 3 folds for each of 2 candidates, totalling 6 fits\n",
      "F1 cv 0.5556010556010557\n"
     ]
    }
   ],
   "source": [
    "lr_pipe = Pipeline([\n",
    "    ('clf', LogisticRegression(random_state=12345, solver='liblinear', class_weight='balanced'))\n",
    "])\n",
    "\n",
    "param_grid = {\n",
    "    'clf__solver' : ['liblinear'],\n",
    "    'clf__max_iter' : [1000, 2500]\n",
    "}\n",
    "\n",
    "lr_estimator, lr_best_params, lr_best_score = search_best_estimator(lr_pipe, param_grid, train_features, train_labels)\n",
    "\n",
    "print('F1 cv', lr_best_score)"
   ]
  },
  {
   "cell_type": "code",
   "execution_count": null,
   "metadata": {},
   "outputs": [
    {
     "name": "stdout",
     "output_type": "stream",
     "text": [
      "Fitting 3 folds for each of 1 candidates, totalling 3 fits\n",
      "F1 cv: 0.03508771929824561\n"
     ]
    }
   ],
   "source": [
    "rf_pipe = Pipeline([\n",
    "    ('clf', RandomForestClassifier(n_estimators=100, max_depth=19, random_state=12345))\n",
    "])\n",
    "param_grid = {\n",
    "    \"clf__n_estimators\": [150], #[i for i in range(100,250,50)],\n",
    "    \"clf__max_depth\": [20], #[i for i in range(10,30,10)], #[i for i in range(10,60,5)],\n",
    "    \"clf__min_samples_split\":[2], #[i for i in range(2,4,2)],\n",
    "    \"clf__min_samples_leaf\": [2],\n",
    "}\n",
    "\n",
    "rf_estimator, rf_best_params, rf_best_score = search_best_estimator(rf_pipe, param_grid, train_features, train_labels)\n",
    "\n",
    "print('F1 cv:', rf_best_score)"
   ]
  },
  {
   "cell_type": "code",
   "execution_count": null,
   "metadata": {},
   "outputs": [
    {
     "name": "stdout",
     "output_type": "stream",
     "text": [
      "Fitting 3 folds for each of 1 candidates, totalling 3 fits\n",
      "0:\tlearn: 0.6047539\ttotal: 200ms\tremaining: 59.9s\n",
      "100:\tlearn: 0.0116382\ttotal: 5.06s\tremaining: 9.97s\n",
      "200:\tlearn: 0.0032919\ttotal: 9.82s\tremaining: 4.83s\n",
      "299:\tlearn: 0.0018503\ttotal: 14.5s\tremaining: 0us\n",
      "F1 cv: 0.13032581453634084\n"
     ]
    }
   ],
   "source": [
    "cb_pipe = Pipeline([\n",
    "    ('clf', CatBoostClassifier(iterations=300, verbose=100))\n",
    "])\n",
    "param_grid = {\n",
    "    \"clf__learning_rate\": [0.1] #[i/10 for i in range(1,3,1)] \n",
    "}\n",
    "\n",
    "cb_estimator, cb_best_params, cb_best_score = search_best_estimator(cb_pipe, param_grid, train_features, train_labels)\n",
    "\n",
    "print('F1 cv:', cb_best_score)"
   ]
  },
  {
   "cell_type": "code",
   "execution_count": null,
   "metadata": {},
   "outputs": [],
   "source": [
    "# tokenizer = transformers.BertTokenizer(vocab_file='datasets/ds_bert/vocab.txt')\n",
    "\n",
    "# tokenized = data['text'].apply(lambda x: tokenizer.encode(x, add_special_tokens=True))\n",
    "\n",
    "# max_len = 0\n",
    "# for i in tokenized.values:\n",
    "#     if len(i) > max_len:\n",
    "#         max_len = len(i)\n",
    "\n",
    "# padded = np.array([i + [0]*(max_len - len(i)) for i in tokenized.values])\n",
    "\n",
    "# attention_mask = np.where(padded != 0, 1, 0)"
   ]
  },
  {
   "cell_type": "code",
   "execution_count": null,
   "metadata": {},
   "outputs": [
    {
     "data": {
      "text/html": [
       "<div>\n",
       "<style scoped>\n",
       "    .dataframe tbody tr th:only-of-type {\n",
       "        vertical-align: middle;\n",
       "    }\n",
       "\n",
       "    .dataframe tbody tr th {\n",
       "        vertical-align: top;\n",
       "    }\n",
       "\n",
       "    .dataframe thead th {\n",
       "        text-align: right;\n",
       "    }\n",
       "</style>\n",
       "<table border=\"1\" class=\"dataframe\">\n",
       "  <thead>\n",
       "    <tr style=\"text-align: right;\">\n",
       "      <th></th>\n",
       "      <th>pipelines</th>\n",
       "      <th>scores</th>\n",
       "    </tr>\n",
       "  </thead>\n",
       "  <tbody>\n",
       "    <tr>\n",
       "      <th>0</th>\n",
       "      <td>(LogisticRegression(class_weight='balanced', r...</td>\n",
       "      <td>0.555601</td>\n",
       "    </tr>\n",
       "    <tr>\n",
       "      <th>2</th>\n",
       "      <td>(&lt;catboost.core.CatBoostClassifier object at 0...</td>\n",
       "      <td>0.130326</td>\n",
       "    </tr>\n",
       "    <tr>\n",
       "      <th>1</th>\n",
       "      <td>(RandomForestClassifier(max_depth=19, random_s...</td>\n",
       "      <td>0.035088</td>\n",
       "    </tr>\n",
       "  </tbody>\n",
       "</table>\n",
       "</div>"
      ],
      "text/plain": [
       "                                           pipelines    scores\n",
       "0  (LogisticRegression(class_weight='balanced', r...  0.555601\n",
       "2  (<catboost.core.CatBoostClassifier object at 0...  0.130326\n",
       "1  (RandomForestClassifier(max_depth=19, random_s...  0.035088"
      ]
     },
     "metadata": {},
     "output_type": "display_data"
    }
   ],
   "source": [
    "pipelines = pd.DataFrame(\n",
    "    {\n",
    "        \"pipelines\": [\n",
    "            lr_pipe,\n",
    "            rf_pipe,\n",
    "            cb_pipe\n",
    "        ],\n",
    "        \"scores\": [lr_best_score, rf_best_score, cb_best_score]\n",
    "    }\n",
    ").sort_values(by='scores', ascending=False)\n",
    "display(pipelines)\n",
    "pipeline = pipelines.iloc[0]['pipelines']"
   ]
  },
  {
   "cell_type": "code",
   "execution_count": null,
   "metadata": {},
   "outputs": [
    {
     "data": {
      "image/png": "[encoded data removed]",
      "text/plain": [
       "<Figure size 800x500 with 2 Axes>"
      ]
     },
     "metadata": {},
     "output_type": "display_data"
    },
    {
     "name": "stdout",
     "output_type": "stream",
     "text": [
      "F1: 0.6296296296296297\n"
     ]
    }
   ],
   "source": [
    "pipeline.fit(train_features, train_labels)\n",
    "\n",
    "predictions = pipeline.predict(test_features)\n",
    "\n",
    "plot_confusion_matrix(test_labels, predictions, pipeline)\n",
    "print('F1:', f1_score(test_labels, predictions))"
   ]
  },
  {
   "attachments": {},
   "cell_type": "markdown",
   "metadata": {},
   "source": [
    "## Выводы"
   ]
  },
  {
   "cell_type": "code",
   "execution_count": null,
   "metadata": {},
   "outputs": [],
   "source": []
  },
  {
   "attachments": {},
   "cell_type": "markdown",
   "metadata": {},
   "source": [
    "## Чек-лист проверки"
   ]
  },
  {
   "attachments": {},
   "cell_type": "markdown",
   "metadata": {},
   "source": [
    "- [x]  Jupyter Notebook открыт\n",
    "- [ ]  Весь код выполняется без ошибок\n",
    "- [ ]  Ячейки с кодом расположены в порядке исполнения\n",
    "- [ ]  Данные загружены и подготовлены\n",
    "- [ ]  Модели обучены\n",
    "- [ ]  Значение метрики *F1* не меньше 0.75\n",
    "- [ ]  Выводы написаны"
   ]
  }
 ],
 "metadata": {
  "ExecuteTimeLog": [
   {
    "duration": 435,
    "start_time": "2023-06-29T12:52:59.806Z"
   },
   {
    "duration": 180,
    "start_time": "2023-06-29T12:53:00.243Z"
   },
   {
    "duration": 2664,
    "start_time": "2023-06-29T12:53:07.700Z"
   },
   {
    "duration": 824,
    "start_time": "2023-06-29T12:53:26.321Z"
   },
   {
    "duration": 8,
    "start_time": "2023-06-29T12:55:28.368Z"
   },
   {
    "duration": 901,
    "start_time": "2023-06-29T12:55:28.379Z"
   },
   {
    "duration": 15,
    "start_time": "2023-06-29T12:55:30.625Z"
   },
   {
    "duration": 720,
    "start_time": "2023-06-29T12:55:52.408Z"
   },
   {
    "duration": 833,
    "start_time": "2023-06-29T13:21:20.097Z"
   },
   {
    "duration": 50,
    "start_time": "2023-06-29T13:23:30.138Z"
   },
   {
    "duration": 3607,
    "start_time": "2023-06-30T10:14:19.342Z"
   },
   {
    "duration": 2428,
    "start_time": "2023-06-30T10:14:22.952Z"
   },
   {
    "duration": 5,
    "start_time": "2023-06-30T10:14:25.383Z"
   },
   {
    "duration": 40147,
    "start_time": "2023-06-30T10:14:25.390Z"
   },
   {
    "duration": 76,
    "start_time": "2023-06-30T10:15:08.929Z"
   }
  ],
  "kernelspec": {
   "display_name": "Python 3 (ipykernel)",
   "language": "python",
   "name": "python3"
  },
  "language_info": {
   "codemirror_mode": {
    "name": "ipython",
    "version": 3
   },
   "file_extension": ".py",
   "mimetype": "text/x-python",
   "name": "python",
   "nbconvert_exporter": "python",
   "pygments_lexer": "ipython3",
   "version": "3.10.6"
  },
  "toc": {
   "base_numbering": 1,
   "nav_menu": {},
   "number_sections": true,
   "sideBar": true,
   "skip_h1_title": true,
   "title_cell": "Содержание",
   "title_sidebar": "Contents",
   "toc_cell": true,
   "toc_position": {
    "height": "calc(100% - 180px)",
    "left": "10px",
    "top": "150px",
    "width": "302.391px"
   },
   "toc_section_display": true,
   "toc_window_display": false
  }
 },
 "nbformat": 4,
 "nbformat_minor": 2
}
